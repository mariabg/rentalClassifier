{
 "cells": [
  {
   "cell_type": "code",
   "execution_count": 20,
   "metadata": {},
   "outputs": [],
   "source": [
    "import sys\n",
    "import pandas as pd\n",
    "import numpy as np\n",
    "\n",
    "import warnings\n",
    "warnings.filterwarnings('ignore')"
   ]
  },
  {
   "cell_type": "markdown",
   "metadata": {},
   "source": [
    "# Cleaning the data"
   ]
  },
  {
   "cell_type": "code",
   "execution_count": 21,
   "metadata": {},
   "outputs": [],
   "source": [
    "df = pd.read_csv('../data/listings.csv');\n",
    "df = df[['id', 'description', 'host_is_superhost', 'zipcode', 'property_type','room_type', 'bathrooms', 'bedrooms',\n",
    "    'beds','price', 'security_deposit', 'cleaning_fee', 'guests_included', 'extra_people', 'review_scores_rating']]"
   ]
  },
  {
   "cell_type": "markdown",
   "metadata": {},
   "source": [
    "### Drop unknown zipcodes and unwanted property types"
   ]
  },
  {
   "cell_type": "code",
   "execution_count": 22,
   "metadata": {},
   "outputs": [],
   "source": [
    "df = df.dropna(subset=['zipcode'])\n",
    "df['zipcode'] = df['zipcode'].str.extract('(07\\d{3})')\n",
    "value_counts = df['zipcode'].value_counts() \n",
    "to_remove = value_counts[value_counts <= 1].index\n",
    "df['zipcode'].replace(to_remove, np.nan, inplace=True)\n",
    "\n",
    "df = df[df.room_type == 'Entire home/apt']\n",
    "acceptedPropTypes = ['Apartment', 'House', 'Villa', 'Chalet', 'Condominium', 'Townhouse', 'Other', 'Loft']\n",
    "# , 'Bungalow', 'Guesthouse', 'Cabin', 'Serviced apartment', 'Earth House', 'Nature lodge']\n",
    "df = df[df.property_type.isin(acceptedPropTypes)]"
   ]
  },
  {
   "cell_type": "markdown",
   "metadata": {},
   "source": [
    "### Cast the money-values into floats and booleans to proper booleans"
   ]
  },
  {
   "cell_type": "code",
   "execution_count": 23,
   "metadata": {},
   "outputs": [],
   "source": [
    "def moneyLaundering(df, c):\n",
    "    newCol = df[c].astype(str).apply(lambda x: (x.replace('$', '')))\n",
    "    newCol = newCol.astype(str).apply(lambda x: (x.replace(',', '')))\n",
    "    newCol = newCol.astype(str).apply(lambda x: (x.replace('nan', '0')))\n",
    "    df = df.drop([c], axis=1)\n",
    "    df[c] = pd.to_numeric(newCol.values, errors='raise')\n",
    "    return df\n",
    "\n",
    "df = moneyLaundering(df, 'cleaning_fee')\n",
    "df = moneyLaundering(df, 'security_deposit')\n",
    "df = moneyLaundering(df, 'price')\n",
    "df = moneyLaundering(df, 'extra_people')\n",
    "\n",
    "df['host_is_superhost'] = df['host_is_superhost'].str.contains('t', regex=False)\n",
    "df.host_is_superhost = df.host_is_superhost.apply(lambda x: x*1)\n",
    "# Use \"has secutiry_deposit\" instead of security_deposit\n",
    "# df['security_deposit'] = np.where(df['security_deposit']>0, True, False)"
   ]
  },
  {
   "cell_type": "markdown",
   "metadata": {
    "scrolled": true
   },
   "source": [
    "###  Adjust price, normalize it and bucket it into lowCost, Medium and Premium"
   ]
  },
  {
   "cell_type": "code",
   "execution_count": 24,
   "metadata": {},
   "outputs": [],
   "source": [
    "df['price'] = df['price'] + df['cleaning_fee']\n",
    "df['guests_not_included'] = df['beds'] - df['guests_included']\n",
    "mask = df['guests_not_included'] < 0 \n",
    "df.loc[mask, 'guests_not_included'] = 0\n",
    "price = df['price'] + df['guests_not_included']*df['extra_people']\n",
    "df['price'] =  pd.to_numeric(price.values, errors='raise')\n",
    "\n",
    "# remove top 5% most expensive and most cheap\n",
    "l, h = np.nanpercentile(df['price'], [5, 95])\n",
    "df = df[df['price'] < h]\n",
    "df = df[df['price'] > l]\n",
    "\n",
    "# norm price\n",
    "df['normPrice'] = np.log(df['price'])"
   ]
  },
  {
   "cell_type": "markdown",
   "metadata": {},
   "source": [
    "### Get features from description (seaViews, hasBalcony, hasSwimmingpool)"
   ]
  },
  {
   "cell_type": "code",
   "execution_count": 25,
   "metadata": {},
   "outputs": [],
   "source": [
    "seaViews = df['description'].str.contains('vistas al mar|sea view|seaview|mit Meeresblick|Blick aufs Meer', regex=True)\n",
    "df['seaViews'] = seaViews.apply(lambda x: x*1)\n",
    "balcony = df['description'].str.contains('terraza|balcón|terrace|balcony', regex=True)\n",
    "df['balcony'] = balcony.apply(lambda x: x*1)\n",
    "swimmingPool = df['description'].str.contains('piscina|swimmingPool', regex=True)\n",
    "df['swimmingPool'] = swimmingPool.apply(lambda x: x*1)\n",
    "\n",
    "descLength = df['description'].str.len()\n",
    "df['descLength'] = descLength"
   ]
  },
  {
   "cell_type": "markdown",
   "metadata": {},
   "source": [
    "### Extract the availability feature"
   ]
  },
  {
   "cell_type": "code",
   "execution_count": 26,
   "metadata": {},
   "outputs": [],
   "source": [
    "dfcal = pd.read_csv('../data/15_03_2017_calendar.csv');\n",
    "dfcal = dfcal[dfcal.listing_id.isin(df.id)]"
   ]
  },
  {
   "cell_type": "code",
   "execution_count": 27,
   "metadata": {
    "scrolled": true
   },
   "outputs": [],
   "source": [
    "temp = dfcal[dfcal.available == 't']\n",
    "temp = temp.groupby(['listing_id'], as_index=False).agg({'available': 'count'})\n",
    "temp['availability'] = temp.available.apply(lambda x: x*100/365)\n",
    "temp.describe()\n",
    "df = df.set_index('id').join(temp.set_index('listing_id'))"
   ]
  },
  {
   "cell_type": "markdown",
   "metadata": {},
   "source": [
    "### Create a dataframe dropping all the values missing reviews"
   ]
  },
  {
   "cell_type": "code",
   "execution_count": 28,
   "metadata": {},
   "outputs": [],
   "source": [
    "reviewed = df.dropna(subset=['review_scores_rating'])"
   ]
  },
  {
   "cell_type": "markdown",
   "metadata": {},
   "source": [
    "# Select the wanted properties and save it into different datasets"
   ]
  },
  {
   "cell_type": "code",
   "execution_count": 29,
   "metadata": {},
   "outputs": [],
   "source": [
    "# Some usefull prints before saving the data\n",
    "# df.describe(include='all')\n",
    "# df['price'].max()\n",
    "# df.count()\n",
    "# df.sample(10)"
   ]
  },
  {
   "cell_type": "markdown",
   "metadata": {},
   "source": [
    "##### General data (features + groupedPrice label)"
   ]
  },
  {
   "cell_type": "code",
   "execution_count": 30,
   "metadata": {},
   "outputs": [
    {
     "data": {
      "text/html": [
       "<div>\n",
       "<style scoped>\n",
       "    .dataframe tbody tr th:only-of-type {\n",
       "        vertical-align: middle;\n",
       "    }\n",
       "\n",
       "    .dataframe tbody tr th {\n",
       "        vertical-align: top;\n",
       "    }\n",
       "\n",
       "    .dataframe thead th {\n",
       "        text-align: right;\n",
       "    }\n",
       "</style>\n",
       "<table border=\"1\" class=\"dataframe\">\n",
       "  <thead>\n",
       "    <tr style=\"text-align: right;\">\n",
       "      <th></th>\n",
       "      <th>bathrooms</th>\n",
       "      <th>bedrooms</th>\n",
       "      <th>beds</th>\n",
       "      <th>host_is_superhost</th>\n",
       "      <th>swimmingPool</th>\n",
       "      <th>balcony</th>\n",
       "      <th>security_deposit</th>\n",
       "      <th>seaViews</th>\n",
       "      <th>availability</th>\n",
       "      <th>review_scores_rating</th>\n",
       "      <th>descLength</th>\n",
       "    </tr>\n",
       "  </thead>\n",
       "  <tbody>\n",
       "    <tr>\n",
       "      <th>count</th>\n",
       "      <td>11013.000000</td>\n",
       "      <td>11012.000000</td>\n",
       "      <td>11020.000000</td>\n",
       "      <td>11019.000000</td>\n",
       "      <td>11017.000000</td>\n",
       "      <td>11017.000000</td>\n",
       "      <td>11020.000000</td>\n",
       "      <td>11017.000000</td>\n",
       "      <td>10801.000000</td>\n",
       "      <td>5979.000000</td>\n",
       "      <td>11017.000000</td>\n",
       "    </tr>\n",
       "    <tr>\n",
       "      <th>mean</th>\n",
       "      <td>2.014801</td>\n",
       "      <td>2.770251</td>\n",
       "      <td>4.296189</td>\n",
       "      <td>0.071241</td>\n",
       "      <td>0.093038</td>\n",
       "      <td>0.484615</td>\n",
       "      <td>154.767151</td>\n",
       "      <td>0.067532</td>\n",
       "      <td>64.533099</td>\n",
       "      <td>91.940626</td>\n",
       "      <td>799.215576</td>\n",
       "    </tr>\n",
       "    <tr>\n",
       "      <th>std</th>\n",
       "      <td>1.034704</td>\n",
       "      <td>1.268751</td>\n",
       "      <td>2.145054</td>\n",
       "      <td>0.257238</td>\n",
       "      <td>0.290499</td>\n",
       "      <td>0.499786</td>\n",
       "      <td>185.691279</td>\n",
       "      <td>0.250952</td>\n",
       "      <td>24.555976</td>\n",
       "      <td>9.095364</td>\n",
       "      <td>307.048008</td>\n",
       "    </tr>\n",
       "    <tr>\n",
       "      <th>min</th>\n",
       "      <td>0.000000</td>\n",
       "      <td>0.000000</td>\n",
       "      <td>0.000000</td>\n",
       "      <td>0.000000</td>\n",
       "      <td>0.000000</td>\n",
       "      <td>0.000000</td>\n",
       "      <td>0.000000</td>\n",
       "      <td>0.000000</td>\n",
       "      <td>0.000000</td>\n",
       "      <td>20.000000</td>\n",
       "      <td>1.000000</td>\n",
       "    </tr>\n",
       "    <tr>\n",
       "      <th>25%</th>\n",
       "      <td>1.000000</td>\n",
       "      <td>2.000000</td>\n",
       "      <td>3.000000</td>\n",
       "      <td>0.000000</td>\n",
       "      <td>0.000000</td>\n",
       "      <td>0.000000</td>\n",
       "      <td>0.000000</td>\n",
       "      <td>0.000000</td>\n",
       "      <td>47.000000</td>\n",
       "      <td>89.000000</td>\n",
       "      <td>563.000000</td>\n",
       "    </tr>\n",
       "    <tr>\n",
       "      <th>50%</th>\n",
       "      <td>2.000000</td>\n",
       "      <td>3.000000</td>\n",
       "      <td>4.000000</td>\n",
       "      <td>0.000000</td>\n",
       "      <td>0.000000</td>\n",
       "      <td>0.000000</td>\n",
       "      <td>100.000000</td>\n",
       "      <td>0.000000</td>\n",
       "      <td>68.000000</td>\n",
       "      <td>94.000000</td>\n",
       "      <td>1000.000000</td>\n",
       "    </tr>\n",
       "    <tr>\n",
       "      <th>75%</th>\n",
       "      <td>2.500000</td>\n",
       "      <td>4.000000</td>\n",
       "      <td>6.000000</td>\n",
       "      <td>0.000000</td>\n",
       "      <td>0.000000</td>\n",
       "      <td>1.000000</td>\n",
       "      <td>300.000000</td>\n",
       "      <td>0.000000</td>\n",
       "      <td>84.000000</td>\n",
       "      <td>100.000000</td>\n",
       "      <td>1002.000000</td>\n",
       "    </tr>\n",
       "    <tr>\n",
       "      <th>max</th>\n",
       "      <td>8.000000</td>\n",
       "      <td>10.000000</td>\n",
       "      <td>16.000000</td>\n",
       "      <td>1.000000</td>\n",
       "      <td>1.000000</td>\n",
       "      <td>1.000000</td>\n",
       "      <td>4000.000000</td>\n",
       "      <td>1.000000</td>\n",
       "      <td>100.000000</td>\n",
       "      <td>100.000000</td>\n",
       "      <td>1819.000000</td>\n",
       "    </tr>\n",
       "  </tbody>\n",
       "</table>\n",
       "</div>"
      ],
      "text/plain": [
       "          bathrooms      bedrooms          beds  host_is_superhost  \\\n",
       "count  11013.000000  11012.000000  11020.000000       11019.000000   \n",
       "mean       2.014801      2.770251      4.296189           0.071241   \n",
       "std        1.034704      1.268751      2.145054           0.257238   \n",
       "min        0.000000      0.000000      0.000000           0.000000   \n",
       "25%        1.000000      2.000000      3.000000           0.000000   \n",
       "50%        2.000000      3.000000      4.000000           0.000000   \n",
       "75%        2.500000      4.000000      6.000000           0.000000   \n",
       "max        8.000000     10.000000     16.000000           1.000000   \n",
       "\n",
       "       swimmingPool       balcony  security_deposit      seaViews  \\\n",
       "count  11017.000000  11017.000000      11020.000000  11017.000000   \n",
       "mean       0.093038      0.484615        154.767151      0.067532   \n",
       "std        0.290499      0.499786        185.691279      0.250952   \n",
       "min        0.000000      0.000000          0.000000      0.000000   \n",
       "25%        0.000000      0.000000          0.000000      0.000000   \n",
       "50%        0.000000      0.000000        100.000000      0.000000   \n",
       "75%        0.000000      1.000000        300.000000      0.000000   \n",
       "max        1.000000      1.000000       4000.000000      1.000000   \n",
       "\n",
       "       availability  review_scores_rating    descLength  \n",
       "count  10801.000000           5979.000000  11017.000000  \n",
       "mean      64.533099             91.940626    799.215576  \n",
       "std       24.555976              9.095364    307.048008  \n",
       "min        0.000000             20.000000      1.000000  \n",
       "25%       47.000000             89.000000    563.000000  \n",
       "50%       68.000000             94.000000   1000.000000  \n",
       "75%       84.000000            100.000000   1002.000000  \n",
       "max      100.000000            100.000000   1819.000000  "
      ]
     },
     "execution_count": 30,
     "metadata": {},
     "output_type": "execute_result"
    }
   ],
   "source": [
    "general_data = df[['zipcode', 'property_type', 'bathrooms', 'bedrooms', 'beds', 'host_is_superhost', 'swimmingPool',\n",
    "                'balcony', 'security_deposit', 'seaViews', 'availability', 'review_scores_rating', 'descLength']]\n",
    "\n",
    "a, b, c, d = np.nanpercentile(df['price'], [0, 33, 67, 100])\n",
    "general_data['groupedPrice'] = pd.cut(df['price'], [a, b, c, d], labels=['lowCost', 'medium', 'premium'])\n",
    "\n",
    "general_data.to_csv(path_or_buf= '../data/general_data.csv', index=False)\n",
    "general_data.describe()"
   ]
  },
  {
   "cell_type": "markdown",
   "metadata": {},
   "source": [
    "### Model with all the appartments reviewed"
   ]
  },
  {
   "cell_type": "code",
   "execution_count": 31,
   "metadata": {},
   "outputs": [],
   "source": [
    "general_reviewed_data = reviewed[['zipcode', 'property_type', 'bathrooms', 'bedrooms', 'beds', 'host_is_superhost',\n",
    "                                  'swimmingPool', 'balcony', 'security_deposit', 'seaViews', 'availability',\n",
    "                                  'review_scores_rating', 'descLength']]\n",
    "\n",
    "a, b, c, d = np.nanpercentile(df['normPrice'], [0, 33, 67, 100])\n",
    "general_reviewed_data['groupedPrice'] = pd.cut(df['normPrice'], [a, b, c, d], labels=['lowCost', 'medium', 'premium'])\n",
    "\n",
    "general_reviewed_data.to_csv(path_or_buf= '../data/general_reviewed_data.csv', index=False)\n",
    "general_reviewed_data.describe()\n",
    "\n",
    "l = general_reviewed_data.zipcode.count()\n",
    "s = int((0.8*general_reviewed_data.zipcode.count()))\n",
    "reviewed_train = general_reviewed_data.iloc[0:s]\n",
    "reviewed_test = general_reviewed_data.iloc[s:l-1]\n",
    "\n",
    "reviewed_train.to_csv(path_or_buf= '../data/reviewed_train.csv', index=False)\n",
    "reviewed_test.to_csv(path_or_buf= '../data/reviewed_test.csv', index=False)"
   ]
  },
  {
   "cell_type": "markdown",
   "metadata": {},
   "source": [
    "##### Normalized general data (features + groupedPrice label)"
   ]
  },
  {
   "cell_type": "code",
   "execution_count": 32,
   "metadata": {},
   "outputs": [],
   "source": [
    "norm_general_data = df[['zipcode', 'property_type', 'bathrooms', 'bedrooms', 'beds', 'host_is_superhost', 'swimmingPool',\n",
    "                'balcony', 'security_deposit', 'seaViews', 'availability', 'review_scores_rating', 'descLength']]\n",
    "\n",
    "a, b, c, d = np.nanpercentile(df['normPrice'], [0, 33, 67, 100])\n",
    "norm_general_data['groupedPrice'] = pd.cut(df['normPrice'], [a, b, c, d], labels=['lowCost', 'medium', 'premium'])\n",
    "\n",
    "norm_general_data.to_csv(path_or_buf= '../data/norm_general_data.csv', index=False)"
   ]
  },
  {
   "cell_type": "markdown",
   "metadata": {},
   "source": [
    "##### Split into train and test datasets"
   ]
  },
  {
   "cell_type": "code",
   "execution_count": 33,
   "metadata": {},
   "outputs": [],
   "source": [
    "l = norm_general_data.zipcode.count()\n",
    "s = int((0.8*norm_general_data.zipcode.count()))\n",
    "train = norm_general_data.iloc[0:s]\n",
    "test = norm_general_data.iloc[s:l-1]\n",
    "\n",
    "train.to_csv(path_or_buf= '../data/norm_train.csv', index=False)\n",
    "test.to_csv(path_or_buf= '../data/norm_test.csv', index=False)"
   ]
  },
  {
   "cell_type": "markdown",
   "metadata": {},
   "source": [
    "##### All the data for visualization"
   ]
  },
  {
   "cell_type": "code",
   "execution_count": 34,
   "metadata": {},
   "outputs": [],
   "source": [
    "norm_all_data = df.drop('description', axis=1)\n",
    "norm_all_data['groupedPrice'] = norm_general_data['groupedPrice']\n",
    "norm_all_data.to_csv(path_or_buf= '../data/norm_all_data.csv', index=False)"
   ]
  },
  {
   "cell_type": "markdown",
   "metadata": {},
   "source": [
    "#### Label groupedPrice depends on totalPrice/nGuests"
   ]
  },
  {
   "cell_type": "code",
   "execution_count": 35,
   "metadata": {},
   "outputs": [],
   "source": [
    "label_price_per_guess = general_data\n",
    "\n",
    "total_guests = df['guests_not_included']+df['guests_included']\n",
    "price_per_guest = df['price']/total_guests\n",
    "\n",
    "l, h = np.nanpercentile(price_per_guest, [5, 95])\n",
    "price_per_guest = price_per_guest[price_per_guest < h]\n",
    "price_per_guest = price_per_guest[price_per_guest > l]\n",
    "a, b, c, d = np.nanpercentile(price_per_guest, [0, 33, 67, 100])\n",
    "\n",
    "label_price_per_guess['groupedPrice'] = pd.cut(price_per_guest, [a, b, c, d], labels=['lowCost', 'medium', 'premium'])\n",
    "\n",
    "label_price_per_guess.to_csv(path_or_buf= '../data/label_price_per_guess.csv', index=False)"
   ]
  },
  {
   "cell_type": "markdown",
   "metadata": {},
   "source": [
    "##### Split into train and test datasets"
   ]
  },
  {
   "cell_type": "code",
   "execution_count": 36,
   "metadata": {},
   "outputs": [],
   "source": [
    "l = label_price_per_guess.zipcode.count()\n",
    "s = int((0.8*label_price_per_guess.zipcode.count()))\n",
    "train = label_price_per_guess.iloc[0:s]\n",
    "test = label_price_per_guess.iloc[s:l-1]\n",
    "\n",
    "train.to_csv(path_or_buf= '../data/label_price_per_guess_train.csv', index=False)\n",
    "test.to_csv(path_or_buf= '../data/label_price_per_guess_test.csv', index=False)"
   ]
  },
  {
   "cell_type": "code",
   "execution_count": 37,
   "metadata": {},
   "outputs": [],
   "source": [
    "# send roman\n",
    "norm_general_data = df[['zipcode', 'property_type', 'bathrooms', 'bedrooms', 'beds', 'host_is_superhost', 'swimmingPool',\n",
    "                'balcony', 'security_deposit', 'seaViews', 'availability', 'review_scores_rating', 'descLength']]\n",
    "\n",
    "a, b, c, d = np.nanpercentile(df['normPrice'], [0, 33, 67, 100])\n",
    "norm_general_data['groupedPrice'] = pd.cut(df['normPrice'], [a, b, c, d], labels=['lowCost', 'medium', 'premium'])\n",
    "\n",
    "norm_general_data.to_csv(path_or_buf= '../data/norm_general_data.csv', index=False)"
   ]
  },
  {
   "cell_type": "code",
   "execution_count": null,
   "metadata": {},
   "outputs": [],
   "source": []
  }
 ],
 "metadata": {
  "kernelspec": {
   "display_name": "Python 2",
   "language": "python",
   "name": "python2"
  },
  "language_info": {
   "codemirror_mode": {
    "name": "ipython",
    "version": 2
   },
   "file_extension": ".py",
   "mimetype": "text/x-python",
   "name": "python",
   "nbconvert_exporter": "python",
   "pygments_lexer": "ipython2",
   "version": "2.7.15"
  }
 },
 "nbformat": 4,
 "nbformat_minor": 2
}
