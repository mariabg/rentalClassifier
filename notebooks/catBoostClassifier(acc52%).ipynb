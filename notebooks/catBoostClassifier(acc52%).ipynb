{
 "cells": [
  {
   "cell_type": "code",
   "execution_count": 75,
   "metadata": {},
   "outputs": [],
   "source": [
    "import numpy as np\n",
    "np.set_printoptions(threshold=np.nan)\n",
    "import pandas as pd\n",
    "from pandas import DataFrame\n",
    "from catboost import Pool, CatBoostClassifier, CatBoost"
   ]
  },
  {
   "cell_type": "markdown",
   "metadata": {},
   "source": [
    "### Get the features"
   ]
  },
  {
   "cell_type": "code",
   "execution_count": 82,
   "metadata": {},
   "outputs": [
    {
     "name": "stdout",
     "output_type": "stream",
     "text": [
      "['zipcode', 'property_type', 'bathrooms', 'bedrooms', 'beds', 'host_is_superhost', 'swimmingPool', 'balcony', 'security_deposit', 'seaViews', 'availability', 'review_scores_rating', 'descLength']\n"
     ]
    }
   ],
   "source": [
    "# This trains with only reviewed apartments, which achieved the highest accuracy\n",
    "train_data_df = pd.read_csv('../data/reviewed_train.csv').dropna(subset=['zipcode', 'groupedPrice', 'availability'])\n",
    "train_data_df['seaViews'] = train_data_df['seaViews'].real.astype(int)\n",
    "train_data_df['swimmingPool'] = train_data_df['swimmingPool'].real.astype(int)\n",
    "train_data_df['balcony'] = train_data_df['balcony'].real.astype(int)\n",
    "train_data_df['host_is_superhost'] = train_data_df['host_is_superhost'].real.astype(int)\n",
    "# train_data_df = train_data_df.drop(['beds', 'host_is_superhost', 'swimmingPool', 'balcony', 'seaViews', 'review_scores_rating', 'descLength'], axis=1)\n",
    "train_features_df = train_data_df.drop(['groupedPrice'], axis=1)\n",
    "train_labels_df = train_data_df['groupedPrice'].astype(str).apply(lambda x: (x.replace('lowCost', '0'))).astype(str).apply(lambda x: (x.replace('medium', '1'))).astype(str).apply(lambda x: (x.replace('premium', '2')))\n",
    "train_labels_df = pd.to_numeric(train_labels_df, errors='coerce')\n",
    "\n",
    "test_data_df = pd.read_csv('../data/reviewed_test.csv').dropna(subset=['zipcode', 'groupedPrice', 'availability'])\n",
    "test_data_df['seaViews'] = test_data_df['seaViews'].real.astype(int)\n",
    "test_data_df['swimmingPool'] = test_data_df['swimmingPool'].real.astype(int)\n",
    "test_data_df['balcony'] = test_data_df['balcony'].real.astype(int)\n",
    "test_data_df['host_is_superhost'] = test_data_df['host_is_superhost'].real.astype(int)\n",
    "# test_data_df = test_data_df.drop(['beds', 'host_is_superhost', 'swimmingPool', 'balcony', 'seaViews', 'review_scores_rating', 'descLength'], axis=1)\n",
    "test_features_df = test_data_df.drop(['groupedPrice'], axis=1)\n",
    "test_labels_df = test_data_df['groupedPrice'].astype(str).apply(lambda x: (x.replace('lowCost', '0'))).astype(str).apply(lambda x: (x.replace('medium', '1'))).astype(str).apply(lambda x: (x.replace('premium', '2')))\n",
    "test_labels_df = pd.to_numeric(test_labels_df, errors='coerce')\n",
    "\n",
    "cat_features = [0,1,6,7,8]\n",
    "column_names = list(train_features_df)\n",
    "print column_names\n",
    "\n",
    "p_train = Pool(train_features_df,\n",
    "         train_labels_df,\n",
    "         cat_features,\n",
    "         column_names)\n",
    "p_test = Pool(test_features_df,\n",
    "         test_labels_df,\n",
    "         cat_features,\n",
    "         column_names)"
   ]
  },
  {
   "cell_type": "markdown",
   "metadata": {},
   "source": [
    "### Train the model, test it and print accuracy"
   ]
  },
  {
   "cell_type": "code",
   "execution_count": 108,
   "metadata": {},
   "outputs": [
    {
     "name": "stdout",
     "output_type": "stream",
     "text": [
      "0:\tlearn: -0.9781344\ttotal: 32.4ms\tremaining: 97.2ms\n",
      "1:\tlearn: -0.9433369\ttotal: 70.4ms\tremaining: 70.4ms\n",
      "2:\tlearn: -0.9245916\ttotal: 93.6ms\tremaining: 31.2ms\n",
      "3:\tlearn: -0.9080777\ttotal: 118ms\tremaining: 0us\n"
     ]
    },
    {
     "data": {
      "text/plain": [
       "<catboost.core._CatBoostBase at 0x107e8fc90>"
      ]
     },
     "execution_count": 108,
     "metadata": {},
     "output_type": "execute_result"
    }
   ],
   "source": [
    "model = CatBoostClassifier(iterations=4, learning_rate=0.8, depth=3, loss_function='MultiClass', verbose=True)\n",
    "model.fit(p_train)"
   ]
  },
  {
   "cell_type": "code",
   "execution_count": 109,
   "metadata": {},
   "outputs": [],
   "source": [
    "preds_class = model.predict(p_test)\n",
    "preds_proba = model.predict_proba(p_test)\n",
    "preds_raw = model.predict(p_test, prediction_type='RawFormulaVal')"
   ]
  },
  {
   "cell_type": "code",
   "execution_count": 110,
   "metadata": {},
   "outputs": [
    {
     "name": "stdout",
     "output_type": "stream",
     "text": [
      "51%\n"
     ]
    }
   ],
   "source": [
    "pred_flat_list = [item for sublist in preds_class for item in sublist]\n",
    "compare = {'label': test_labels_df, 'pred': pred_flat_list}\n",
    "compare_df = pd.DataFrame(data=compare)\n",
    "right_guesses = (compare_df['label'] == compare_df['pred']).astype(int)\n",
    "compare_df['guess'] = right_guesses\n",
    "\n",
    "accurracy = 100*compare_df['guess'].sum()/len(compare_df.index)\n",
    "print accurracy.astype(str) + '%'\n",
    "\n",
    "# print compare_df['guess'].sum()\n",
    "# print model.score(train_features_df, train_labels_df)"
   ]
  },
  {
   "cell_type": "code",
   "execution_count": 86,
   "metadata": {},
   "outputs": [
    {
     "name": "stdout",
     "output_type": "stream",
     "text": [
      "[278, 100, 61]\n",
      "[205, 120, 132]\n",
      "[36, 50, 183]\n"
     ]
    }
   ],
   "source": [
    "# how is misclassification distributed?\n",
    "arr1 = [0, 0, 0]\n",
    "arr2 = [0, 0, 0]\n",
    "arr0 = [0, 0, 0]\n",
    "for i, r in compare_df.iterrows():\n",
    "    if r['label'] == 0.0:\n",
    "        if r['pred'] == 0.0:\n",
    "            arr0[0] = arr0[0] + 1\n",
    "        elif r['pred'] == 1.0:\n",
    "            arr0[1] = arr0[1] + 1\n",
    "        else:\n",
    "            arr0[2] = arr0[2] + 1\n",
    "    if r['label'] == 1.0:\n",
    "        if r['pred'] == 0.0:\n",
    "            arr1[0] = arr1[0] + 1\n",
    "        elif r['pred'] == 1.0:\n",
    "            arr1[1] = arr1[1] + 1\n",
    "        else:\n",
    "            arr1[2] = arr1[2] + 1\n",
    "    if r['label'] == 2.0:\n",
    "        if r['pred'] == 0.0:\n",
    "            arr2[0] = arr2[0] + 1\n",
    "        elif r['pred'] == 1.0:\n",
    "            arr2[1] = arr2[1] + 1\n",
    "        else:\n",
    "            arr2[2] = arr2[2] + 1\n",
    "print arr0\n",
    "print arr1\n",
    "print arr2\n"
   ]
  },
  {
   "cell_type": "code",
   "execution_count": 49,
   "metadata": {},
   "outputs": [
    {
     "name": "stdout",
     "output_type": "stream",
     "text": [
      "   zipcode property_type  bathrooms  bedrooms  beds  host_is_superhost  \\\n",
      "0     7610         House        2.0       4.0   7.0                  0   \n",
      "1     7600         House        2.0       4.0   8.0                  0   \n",
      "2     7002     Apartment        1.0       1.0   1.0                  0   \n",
      "3     7011     Apartment        2.0       3.0   6.0                  0   \n",
      "4     7600     Apartment        1.0       1.0   2.0                  1   \n",
      "5     7001     Apartment        1.0       1.0   2.0                  1   \n",
      "6     7003          Loft        2.0       1.0   1.0                  1   \n",
      "7     7015     Apartment        1.0       2.0   3.0                  0   \n",
      "8     7012     Apartment        1.5       1.0   3.0                  0   \n",
      "9     7003     Apartment        2.0       3.0   6.0                  0   \n",
      "\n",
      "   swimmingPool  balcony  security_deposit  seaViews  availability  \\\n",
      "0             0        0               0.0         0          84.0   \n",
      "1             0        0             500.0         0          67.0   \n",
      "2             0        0             250.0         0         100.0   \n",
      "3             0        0             300.0         0          87.0   \n",
      "4             0        1             200.0         0          65.0   \n",
      "5             0        0             150.0         0          81.0   \n",
      "6             0        0               0.0         0          85.0   \n",
      "7             0        1             150.0         0          61.0   \n",
      "8             0        1               0.0         0          76.0   \n",
      "9             0        0             250.0         0          54.0   \n",
      "\n",
      "   review_scores_rating  descLength groupedPrice  \n",
      "0                  96.0       245.0      premium  \n",
      "1                  90.0       567.0      premium  \n",
      "2                  84.0       488.0       medium  \n",
      "3                  89.0      1000.0      premium  \n",
      "4                  96.0       251.0       medium  \n",
      "5                  96.0       819.0      lowCost  \n",
      "6                  98.0      1000.0      lowCost  \n",
      "7                  94.0      1001.0       medium  \n",
      "8                  93.0      1000.0       medium  \n",
      "9                  97.0      1014.0      premium  \n"
     ]
    }
   ],
   "source": [
    "print test_data_df.iloc[0:10]"
   ]
  },
  {
   "cell_type": "code",
   "execution_count": null,
   "metadata": {},
   "outputs": [],
   "source": []
  },
  {
   "cell_type": "code",
   "execution_count": null,
   "metadata": {},
   "outputs": [],
   "source": []
  },
  {
   "cell_type": "code",
   "execution_count": null,
   "metadata": {},
   "outputs": [],
   "source": []
  },
  {
   "cell_type": "code",
   "execution_count": null,
   "metadata": {},
   "outputs": [],
   "source": []
  },
  {
   "cell_type": "code",
   "execution_count": null,
   "metadata": {},
   "outputs": [],
   "source": []
  }
 ],
 "metadata": {
  "kernelspec": {
   "display_name": "Python 3",
   "language": "python",
   "name": "python3"
  },
  "language_info": {
   "codemirror_mode": {
    "name": "ipython",
    "version": 2
   },
   "file_extension": ".py",
   "mimetype": "text/x-python",
   "name": "python",
   "nbconvert_exporter": "python",
   "pygments_lexer": "ipython2",
   "version": "2.7.15"
  }
 },
 "nbformat": 4,
 "nbformat_minor": 2
}
